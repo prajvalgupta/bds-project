{
 "cells": [
  {
   "cell_type": "code",
   "execution_count": 2,
   "metadata": {},
   "outputs": [],
   "source": [
    "import numpy as np # linear algebra\n",
    "import pandas as pd # data processing, CSV file I/O (e.g. pd.read_csv)\n",
    "import datetime as dt\n",
    "\n",
    "import sqlite3 as sql\n",
    "\n",
    "import seaborn as sns\n",
    "import matplotlib.pyplot as plt\n",
    "%matplotlib inline\n",
    "\n",
    "import plotly.figure_factory as ff\n",
    "import plotly.graph_objs as go\n",
    "from plotly.offline import download_plotlyjs, init_notebook_mode, plot, iplot\n",
    "\n",
    "from sklearn.model_selection import train_test_split\n",
    "from sklearn.linear_model import LogisticRegression\n",
    "from sklearn.preprocessing import LabelEncoder\n",
    "from sklearn.metrics import explained_variance_score\n",
    "from sklearn.metrics import mean_absolute_error\n",
    "from sklearn.metrics import confusion_matrix, f1_score, classification_report, accuracy_score, roc_auc_score"
   ]
  },
  {
   "cell_type": "code",
   "execution_count": 3,
   "metadata": {},
   "outputs": [
    {
     "name": "stdout",
     "output_type": "stream",
     "text": [
      "['~$S Background Application – Whitt.docx', 'bds-project', '.DS_Store', 'Risks&Reduction_Capstone.docx', '.localized', 'bdsproject', 'SampleMQTTAndroidApp', 'BusinessSH', 'APAD', 'Whitt_Hyde.jpeg', 'IoT', 'BusinessProblem_Capstone.docx', 'Kaggle_report_wjh695', 'ColbyChaosThanos.jpeg', 'FPA_FOD_20170508.sqlite', 'KingTetris.jpg', '.ipynb_checkpoints', 'Screen Shot 2019-12-14 at 1.29.20 PM.png', 'bds-hw', 'Jobs', 'ugca-fall', '~$Jobs2019.xlsx', 'Downloads', 'SummerClasses', 'BigData', 'RanbirKapoor.jpeg']\n"
     ]
    }
   ],
   "source": [
    "pd.set_option('display.max_columns',100)\n",
    "\n",
    "# Input data files are available in the \"../input/\" directory.\n",
    "# For example, running this (by clicking run or pressing Shift+Enter) will list the files in the input directory\n",
    "import os\n",
    "print(os.listdir(\"../\"))\n",
    "\n",
    "%matplotlib inline\n",
    "\n",
    "\n",
    "# Any results you write to the current directory are saved as output."
   ]
  },
  {
   "cell_type": "code",
   "execution_count": 4,
   "metadata": {},
   "outputs": [],
   "source": [
    "conn = sql.connect(\"FPA_FOD_20170508.sqlite\")\n"
   ]
  },
  {
   "cell_type": "code",
   "execution_count": 5,
   "metadata": {},
   "outputs": [],
   "source": [
    "# pip install plotly-geo"
   ]
  },
  {
   "cell_type": "code",
   "execution_count": 6,
   "metadata": {},
   "outputs": [],
   "source": [
    "cur = conn.cursor()\n",
    "cur.execute(\"SELECT * FROM fires\")\n",
    "\n",
    "rows = cur.fetchall()\n"
   ]
  },
  {
   "cell_type": "code",
   "execution_count": null,
   "metadata": {},
   "outputs": [],
   "source": [
    "wfdf = pd.read_sql(\"Select * from fires\",con= conn)"
   ]
  },
  {
   "cell_type": "code",
   "execution_count": null,
   "metadata": {},
   "outputs": [],
   "source": [
    "wfdf.shape\n"
   ]
  },
  {
   "cell_type": "code",
   "execution_count": null,
   "metadata": {},
   "outputs": [],
   "source": [
    "wfdf.columns\n"
   ]
  },
  {
   "cell_type": "code",
   "execution_count": null,
   "metadata": {},
   "outputs": [],
   "source": [
    "epoch = pd.to_datetime(0, unit='s').to_julian_date()\n",
    "wfdf['CONT_DATE'] = pd.to_datetime(wfdf['CONT_DATE'] - epoch, unit='D')\n",
    "wfdf['DISCOVERY_DATE'] = pd.to_datetime(wfdf['DISCOVERY_DATE'] - epoch, unit = 'D')\n",
    "wfdf['FIRE_DURATION'] = wfdf['CONT_DATE'] - wfdf['DISCOVERY_DATE']\n",
    "wfdf['FIRE_DURATION'] = wfdf['FIRE_DURATION'].dt.days\n",
    "wfdf['FIRE_DURATION'].fillna(wfdf['FIRE_DURATION'].mean(),inplace = True)\n",
    "wfdf['FIRE_DURATION'] = wfdf['FIRE_DURATION'].apply(lambda x : int(x))"
   ]
  },
  {
   "cell_type": "code",
   "execution_count": null,
   "metadata": {},
   "outputs": [],
   "source": [
    "wfdf.head()\n"
   ]
  },
  {
   "cell_type": "code",
   "execution_count": null,
   "metadata": {},
   "outputs": [],
   "source": [
    "plt.figure(figsize=(15, 10))\n",
    "ax = sns.countplot(x=\"FIRE_YEAR\", data = wfdf, palette=\"YlOrRd\")\n",
    "ax.set_title(\"Frequency of wildfire over time\", fontdict = {'fontsize':20, 'fontweight':'bold'})\n",
    "ax.set_xlabel(\"Year\", fontdict = {'fontsize':18, 'fontweight': 'medium'})\n",
    "ax.set_ylabel(\"Frequency\", fontdict = {'fontsize':18, 'fontweight': 'medium'})\n",
    "ax.grid(which = 'major',color = 'black', linewidth = 1)"
   ]
  },
  {
   "cell_type": "code",
   "execution_count": null,
   "metadata": {},
   "outputs": [],
   "source": [
    "labels = {'B':'0.26-9.9',\n",
    "          'A':'0-2.5', \n",
    "          'C':'10.0-99.9', \n",
    "          'D':'100-299', \n",
    "          'E':'300-999', \n",
    "          'F':'1000-4999', \n",
    "          'G': '5000+'}\n",
    "plt.figure(figsize=(10,6))\n",
    "ax= sns.countplot(x = 'FIRE_SIZE_CLASS', data = wfdf, palette = 'YlOrRd_r', order = wfdf['FIRE_SIZE_CLASS'].value_counts().index)\n",
    "ax.set_xlabel('Classes of Wildfires', fontdict = {'fontsize':18, 'fontweight': 'medium'})\n",
    "ax.set_ylabel('Count of Wildfires', fontdict = {'fontsize':18, 'fontweight': 'medium'})\n",
    "ax.set_title('Count of fire by size', fontdict = {'fontsize':20, 'fontweight': 'bold'})\n",
    "ax.grid(linewidth = 1, color = 'black')\n",
    "ax.set_xticklabels(labels.values())"
   ]
  },
  {
   "cell_type": "code",
   "execution_count": null,
   "metadata": {},
   "outputs": [],
   "source": [
    "ax = sns.countplot(y = 'STAT_CAUSE_DESCR', data = wfdf, palette = 'YlOrRd_r', order=wfdf['STAT_CAUSE_DESCR'].value_counts().index)\n",
    "ax.set_ylabel('Cause of Wildfires', fontdict = {'fontsize':18, 'fontweight': 'medium'})\n",
    "ax.set_xlabel('Frequency of wildfires because of the cause', fontdict = {'fontsize':18, 'fontweight': 'medium'})\n",
    "ax.set_title('Causes of wildfire', fontdict = {'fontsize':20, 'fontweight': 'bold'})\n",
    "ax.grid()"
   ]
  },
  {
   "cell_type": "code",
   "execution_count": null,
   "metadata": {},
   "outputs": [],
   "source": [
    "plt.figure(figsize = (15,10))\n",
    "ax = sns.countplot(x = 'STATE' , data = wfdf, palette = 'YlOrRd_r', order = wfdf['STATE'].value_counts().index)\n",
    "ax.set_ylabel('Frequency of wildfires', fontdict = {'fontsize':18, 'fontweight': 'medium'})\n",
    "ax.set_xlabel('States', fontdict = {'fontsize':18, 'fontweight': 'medium'})\n",
    "ax.set_title('Fire by States', fontdict = {'fontsize':20, 'fontweight': 'bold'})\n",
    "ax.grid()\n",
    "plt.tight_layout()"
   ]
  },
  {
   "cell_type": "code",
   "execution_count": null,
   "metadata": {},
   "outputs": [],
   "source": [
    "grid = sns.FacetGrid(data= wfdf , col = 'FIRE_YEAR', height = 4, aspect = 2, col_wrap=3)\n",
    "grid.map(sns.countplot, 'STATE', order = wfdf['STATE'].unique(), palette = 'YlOrRd_r')\n",
    "grid.set_xticklabels(rotation = 90, fontdict = {'fontsize':10})\n",
    "grid.set(ylim = (0,12000))\n",
    "for ax in grid.axes.flat:\n",
    "    ax.set_title(ax.get_title(), fontsize='xx-large')\n",
    "    ax.set_ylabel(ax.get_ylabel(), fontsize='xx-large')\n",
    "    ax.set_xlabel(ax.get_xlabel(),fontsize = 'xx-large')\n",
    "# plt.tight_layout()"
   ]
  },
  {
   "cell_type": "code",
   "execution_count": null,
   "metadata": {},
   "outputs": [],
   "source": [
    "ca_data = wfdf[wfdf['STATE'] == 'CA']\n",
    "plt.figure(figsize=(12,10))\n",
    "plt.scatter(x = ca_data['LONGITUDE'],y = ca_data['LATITUDE'],sizes = ca_data['FIRE_SIZE']/100,c = ca_data['FIRE_DURATION']/100, cmap='YlOrRd', vmin=0.0, vmax=1.0)\n",
    "plt.colorbar()\n",
    "plt.xlabel('LONGITUDE', fontdict={'fontsize' : 18, 'fontweight' : 'medium'})\n",
    "plt.ylabel('LATITUDE', fontdict={'fontsize' : 18, 'fontweight' : 'medium'})\n",
    "plt.title(\"California's Fire Prone Areas \",fontdict={'fontsize' : 20, 'fontweight' : 'bold'})\n",
    "plt.show()"
   ]
  },
  {
   "cell_type": "code",
   "execution_count": null,
   "metadata": {},
   "outputs": [],
   "source": [
    "ca_data = wfdf[wfdf['STATE'] == 'TX']\n",
    "plt.figure(figsize=(12,10))\n",
    "plt.scatter(x = ca_data['LONGITUDE'],y = ca_data['LATITUDE'],sizes = ca_data['FIRE_SIZE']/100,c = ca_data['FIRE_DURATION']/100, cmap='YlOrRd', vmin=0.0, vmax=1.0)\n",
    "plt.colorbar()\n",
    "plt.xlabel('LONGITUDE', fontdict={'fontsize' : 18, 'fontweight' : 'medium'})\n",
    "plt.ylabel('LATITUDE', fontdict={'fontsize' : 18, 'fontweight' : 'medium'})\n",
    "plt.title(\"Texas' Fire Prone Areas \",fontdict={'fontsize' : 20, 'fontweight' : 'bold'})\n",
    "plt.show()"
   ]
  },
  {
   "cell_type": "code",
   "execution_count": null,
   "metadata": {},
   "outputs": [],
   "source": [
    "ca_data = wfdf[wfdf['STATE'] == 'CA']\n",
    "plt.figure(figsize=(12,10))\n",
    "plt.scatter(x = ca_data['LONGITUDE'],y = ca_data['LATITUDE'],sizes = ca_data['FIRE_SIZE']/100,c = ca_data['FIRE_DURATION']/100, cmap='YlOrRd', vmin=0.0, vmax=1.0)\n",
    "plt.colorbar()\n",
    "plt.xlabel('LONGITUDE', fontdict={'fontsize' : 18, 'fontweight' : 'medium'})\n",
    "plt.ylabel('LATITUDE', fontdict={'fontsize' : 18, 'fontweight' : 'medium'})\n",
    "plt.title(\"California's fire prone areas \",fontdict={'fontsize' : 20, 'fontweight' : 'bold'})\n",
    "plt.show()"
   ]
  },
  {
   "cell_type": "markdown",
   "metadata": {},
   "source": [
    "The circular spots represent the firesize that is the spread of fire in acres and the color internsity that is as we move from yellow to red scale the duration to bring the fire under control increases, which can be also looked as the number days required to bring the fire under control is directly proportional to how intense the fire was\n"
   ]
  },
  {
   "cell_type": "code",
   "execution_count": 21,
   "metadata": {},
   "outputs": [
    {
     "data": {
      "text/plain": [
       "1880465"
      ]
     },
     "execution_count": 21,
     "metadata": {},
     "output_type": "execute_result"
    }
   ],
   "source": [
    "len(fips)"
   ]
  },
  {
   "cell_type": "code",
   "execution_count": 27,
   "metadata": {},
   "outputs": [
    {
     "data": {
      "text/plain": [
       "CA    189550\n",
       "GA    168867\n",
       "TX    142021\n",
       "NC    111277\n",
       "FL     90261\n",
       "SC     81315\n",
       "NY     80870\n",
       "MS     79230\n",
       "AZ     71586\n",
       "AL     66570\n",
       "OR     61088\n",
       "MN     44769\n",
       "OK     43239\n",
       "MT     40767\n",
       "NM     37478\n",
       "ID     36698\n",
       "CO     34157\n",
       "WA     33513\n",
       "WI     31861\n",
       "AR     31663\n",
       "TN     31154\n",
       "SD     30963\n",
       "UT     30725\n",
       "LA     30013\n",
       "KY     27089\n",
       "NJ     25949\n",
       "PR     22081\n",
       "WV     21967\n",
       "VA     21833\n",
       "MO     17953\n",
       "NV     16956\n",
       "ND     15201\n",
       "WY     14166\n",
       "ME     13150\n",
       "AK     12843\n",
       "MI     10502\n",
       "HI      9895\n",
       "PA      8712\n",
       "NE      7973\n",
       "KS      7673\n",
       "CT      4976\n",
       "IA      4134\n",
       "MD      3622\n",
       "OH      3479\n",
       "MA      2626\n",
       "NH      2452\n",
       "IL      2327\n",
       "IN      2098\n",
       "RI       480\n",
       "VT       456\n",
       "DE       171\n",
       "DC        66\n",
       "Name: STATE, dtype: int64"
      ]
     },
     "execution_count": 27,
     "metadata": {},
     "output_type": "execute_result"
    }
   ],
   "source": [
    "wfdf['STATE'].value_counts()"
   ]
  },
  {
   "cell_type": "code",
   "execution_count": 28,
   "metadata": {},
   "outputs": [
    {
     "ename": "PlotlyError",
     "evalue": "You have 52 LEVELS. Your number of colors in 'colorscale' must be at least the number of LEVELS: ['AK', 'AL', 'AR', 'AZ', 'CA', 'CO', 'CT', 'DC', 'DE', 'FL', 'GA', 'HI', 'IA', 'ID', 'IL', 'IN', 'KS', 'KY', 'LA', 'MA']. If you are using 'binning_endpoints' then 'colorscale' must have at least len(binning_endpoints) + 2 colors",
     "output_type": "error",
     "traceback": [
      "\u001b[0;31m---------------------------------------------------------------------------\u001b[0m",
      "\u001b[0;31mPlotlyError\u001b[0m                               Traceback (most recent call last)",
      "\u001b[0;32m<ipython-input-28-8de55d3fc51b>\u001b[0m in \u001b[0;36m<module>\u001b[0;34m\u001b[0m\n\u001b[1;32m      5\u001b[0m \u001b[0;34m\u001b[0m\u001b[0m\n\u001b[1;32m      6\u001b[0m fig = ff.create_choropleth(fips = fips , values = wfdf['STATE'], colorscale = colorscale, show_state_data= False, \n\u001b[0;32m----> 7\u001b[0;31m                            show_hover= True, centroid_marker={'opacity':0}, asp = 2.9, title='USA Fires %')\n\u001b[0m\u001b[1;32m      8\u001b[0m \u001b[0mfig\u001b[0m\u001b[0;34m.\u001b[0m\u001b[0mshow\u001b[0m\u001b[0;34m(\u001b[0m\u001b[0;34m)\u001b[0m\u001b[0;34m\u001b[0m\u001b[0;34m\u001b[0m\u001b[0m\n",
      "\u001b[0;32m/anaconda3/lib/python3.7/site-packages/plotly/figure_factory/_county_choropleth.py\u001b[0m in \u001b[0;36mcreate_choropleth\u001b[0;34m(fips, values, scope, binning_endpoints, colorscale, order, simplify_county, simplify_state, asp, show_hover, show_state_data, state_outline, county_outline, centroid_marker, round_legend_values, exponent_format, legend_title, **layout_options)\u001b[0m\n\u001b[1;32m    730\u001b[0m             \u001b[0;34m\"using 'binning_endpoints' then 'colorscale' must have at \"\u001b[0m\u001b[0;34m\u001b[0m\u001b[0;34m\u001b[0m\u001b[0m\n\u001b[1;32m    731\u001b[0m             \"least len(binning_endpoints) + 2 colors\".format(\n\u001b[0;32m--> 732\u001b[0;31m                 \u001b[0mlen\u001b[0m\u001b[0;34m(\u001b[0m\u001b[0mLEVELS\u001b[0m\u001b[0;34m)\u001b[0m\u001b[0;34m,\u001b[0m \u001b[0mmin\u001b[0m\u001b[0;34m(\u001b[0m\u001b[0mLEVELS\u001b[0m\u001b[0;34m,\u001b[0m \u001b[0mLEVELS\u001b[0m\u001b[0;34m[\u001b[0m\u001b[0;34m:\u001b[0m\u001b[0;36m20\u001b[0m\u001b[0;34m]\u001b[0m\u001b[0;34m)\u001b[0m\u001b[0;34m\u001b[0m\u001b[0;34m\u001b[0m\u001b[0m\n\u001b[0m\u001b[1;32m    733\u001b[0m             )\n\u001b[1;32m    734\u001b[0m         )\n",
      "\u001b[0;31mPlotlyError\u001b[0m: You have 52 LEVELS. Your number of colors in 'colorscale' must be at least the number of LEVELS: ['AK', 'AL', 'AR', 'AZ', 'CA', 'CO', 'CT', 'DC', 'DE', 'FL', 'GA', 'HI', 'IA', 'ID', 'IL', 'IN', 'KS', 'KY', 'LA', 'MA']. If you are using 'binning_endpoints' then 'colorscale' must have at least len(binning_endpoints) + 2 colors"
     ]
    }
   ],
   "source": [
    "fips = wfdf['FIPS_CODE'].tolist()\n",
    "colorscale = [\"#f7fbff\",\"#ebf3fb\",\"#deebf7\",\"#d2e3f3\",\"#c6dbef\",\"#b3d2e9\",\"#9ecae1\",\n",
    "              \"#85bcdb\",\"#6baed6\",\"#57a0ce\",\"#4292c6\",\"#3082be\",\"#2171b5\",\"#1361a9\",\n",
    "              \"#08519c\",\"#0b4083\",\"#08306b\"]\n",
    "\n",
    "fig = ff.create_choropleth(fips = fips , values = wfdf['STATE'].value_counts(), colorscale = colorscale, show_state_data= False, \n",
    "                           show_hover= True, centroid_marker={'opacity':0}, asp = 2.9, title='USA Fires %')\n",
    "fig.show()"
   ]
  },
  {
   "cell_type": "code",
   "execution_count": 33,
   "metadata": {},
   "outputs": [],
   "source": [
    "layout = dict(title = 'Fire Prone States',\n",
    "              geo = dict(scope='usa',\n",
    "                         showlakes = True,\n",
    "                         lakecolor = 'rgb(85,173,240)')\n",
    "             )\n"
   ]
  },
  {
   "cell_type": "code",
   "execution_count": null,
   "metadata": {},
   "outputs": [],
   "source": [
    "choromap = go.Figure(data=data, layout=layout)\n",
    "# iplot(choromap,validate=False)\n",
    "py.plot(choromap)"
   ]
  },
  {
   "cell_type": "code",
   "execution_count": null,
   "metadata": {},
   "outputs": [],
   "source": [
    "wfdf.head()"
   ]
  },
  {
   "cell_type": "code",
   "execution_count": null,
   "metadata": {},
   "outputs": [],
   "source": [
    "features = wfdf[['STATE', 'FIPS_NAME', 'FIRE_DURATION','DISCOVERY_DATE', 'FIRE_SIZE_CLASS']]\n",
    "label = wfdf['STAT_CAUSE_DESCR']\n"
   ]
  },
  {
   "cell_type": "markdown",
   "metadata": {},
   "source": [
    "Since the chosen feature 'STATE' is categorical variable I need to convert it to numerical variable. So I'll be performing one hot encoding to convert 'STATE' to numerical variable"
   ]
  },
  {
   "cell_type": "code",
   "execution_count": null,
   "metadata": {},
   "outputs": [],
   "source": [
    "label_encoder = LabelEncoder()\n"
   ]
  },
  {
   "cell_type": "code",
   "execution_count": null,
   "metadata": {},
   "outputs": [],
   "source": [
    "encoded_state = label_encoder.fit_transform(features['STATE'])\n"
   ]
  }
 ],
 "metadata": {
  "kernelspec": {
   "display_name": "Python 3",
   "language": "python",
   "name": "python3"
  },
  "language_info": {
   "codemirror_mode": {
    "name": "ipython",
    "version": 3
   },
   "file_extension": ".py",
   "mimetype": "text/x-python",
   "name": "python",
   "nbconvert_exporter": "python",
   "pygments_lexer": "ipython3",
   "version": "3.7.3"
  }
 },
 "nbformat": 4,
 "nbformat_minor": 2
}
